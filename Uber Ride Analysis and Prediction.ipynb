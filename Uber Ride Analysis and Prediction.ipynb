{
 "cells": [
  {
   "cell_type": "code",
   "execution_count": 3,
   "id": "ce7b97c0",
   "metadata": {
    "_cell_guid": "b1076dfc-b9ad-4769-8c92-a6c4dae69d19",
    "_uuid": "8f2839f25d086af736a60e9eeb907d3b93b6e0e5",
    "papermill": {
     "duration": 5.809567,
     "end_time": "2023-08-07T11:06:24.797468",
     "exception": false,
     "start_time": "2023-08-07T11:06:18.987901",
     "status": "completed"
    },
    "tags": []
   },
   "outputs": [],
   "source": [
    "import pandas as pd\n",
    "import numpy as np\n",
    "import seaborn as sns\n",
    "import matplotlib.pyplot as plt\n",
    "import pylab\n",
    "import statsmodels.api as sm\n",
    "from sklearn.model_selection import train_test_split, GridSearchCV, KFold, cross_val_score\n",
    "from sklearn.metrics import mean_absolute_error, mean_squared_error, r2_score\n",
    "from sklearn.ensemble import IsolationForest, RandomForestRegressor\n",
    "from sklearn.preprocessing import LabelEncoder, StandardScaler\n",
    "from math import radians, sin, cos, sqrt, asin\n",
    "from IPython.display import Markdown, display\n",
    "from tqdm import tqdm\n",
    "\n",
    "from sklearn.tree import DecisionTreeRegressor\n",
    "from sklearn.feature_selection import SelectKBest, f_regression\n",
    "from sklearn.ensemble import RandomForestRegressor\n",
    "from xgboost import XGBRegressor\n",
    "from sklearn.linear_model import LinearRegression, Lasso, Ridge\n",
    "\n",
    "plt.style.use('fivethirtyeight')"
   ]
  },
  {
   "cell_type": "code",
   "execution_count": 6,
   "id": "3b81ee80",
   "metadata": {
    "execution": {
     "iopub.execute_input": "2023-08-07T11:06:24.848078Z",
     "iopub.status.busy": "2023-08-07T11:06:24.847403Z",
     "iopub.status.idle": "2023-08-07T11:06:59.756604Z",
     "shell.execute_reply": "2023-08-07T11:06:59.755251Z"
    },
    "papermill": {
     "duration": 34.958354,
     "end_time": "2023-08-07T11:06:59.781040",
     "exception": false,
     "start_time": "2023-08-07T11:06:24.822686",
     "status": "completed"
    },
    "tags": []
   },
   "outputs": [
    {
     "data": {
      "text/html": [
       "<div>\n",
       "<style scoped>\n",
       "    .dataframe tbody tr th:only-of-type {\n",
       "        vertical-align: middle;\n",
       "    }\n",
       "\n",
       "    .dataframe tbody tr th {\n",
       "        vertical-align: top;\n",
       "    }\n",
       "\n",
       "    .dataframe thead th {\n",
       "        text-align: right;\n",
       "    }\n",
       "</style>\n",
       "<table border=\"1\" class=\"dataframe\">\n",
       "  <thead>\n",
       "    <tr style=\"text-align: right;\">\n",
       "      <th></th>\n",
       "      <th>START_DATE</th>\n",
       "      <th>END_DATE</th>\n",
       "      <th>CATEGORY</th>\n",
       "      <th>START</th>\n",
       "      <th>STOP</th>\n",
       "      <th>MILES</th>\n",
       "      <th>PURPOSE</th>\n",
       "    </tr>\n",
       "  </thead>\n",
       "  <tbody>\n",
       "    <tr>\n",
       "      <th>0</th>\n",
       "      <td>01-01-2016 21:11</td>\n",
       "      <td>01-01-2016 21:17</td>\n",
       "      <td>Business</td>\n",
       "      <td>Fort Pierce</td>\n",
       "      <td>Fort Pierce</td>\n",
       "      <td>5.1</td>\n",
       "      <td>Meal/Entertain</td>\n",
       "    </tr>\n",
       "    <tr>\n",
       "      <th>1</th>\n",
       "      <td>01-02-2016 01:25</td>\n",
       "      <td>01-02-2016 01:37</td>\n",
       "      <td>Business</td>\n",
       "      <td>Fort Pierce</td>\n",
       "      <td>Fort Pierce</td>\n",
       "      <td>5.0</td>\n",
       "      <td>NaN</td>\n",
       "    </tr>\n",
       "    <tr>\n",
       "      <th>2</th>\n",
       "      <td>01-02-2016 20:25</td>\n",
       "      <td>01-02-2016 20:38</td>\n",
       "      <td>Business</td>\n",
       "      <td>Fort Pierce</td>\n",
       "      <td>Fort Pierce</td>\n",
       "      <td>4.8</td>\n",
       "      <td>Errand/Supplies</td>\n",
       "    </tr>\n",
       "    <tr>\n",
       "      <th>3</th>\n",
       "      <td>01-05-2016 17:31</td>\n",
       "      <td>01-05-2016 17:45</td>\n",
       "      <td>Business</td>\n",
       "      <td>Fort Pierce</td>\n",
       "      <td>Fort Pierce</td>\n",
       "      <td>4.7</td>\n",
       "      <td>Meeting</td>\n",
       "    </tr>\n",
       "    <tr>\n",
       "      <th>4</th>\n",
       "      <td>01-06-2016 14:42</td>\n",
       "      <td>01-06-2016 15:49</td>\n",
       "      <td>Business</td>\n",
       "      <td>Fort Pierce</td>\n",
       "      <td>West Palm Beach</td>\n",
       "      <td>63.7</td>\n",
       "      <td>Customer Visit</td>\n",
       "    </tr>\n",
       "  </tbody>\n",
       "</table>\n",
       "</div>"
      ],
      "text/plain": [
       "         START_DATE          END_DATE  CATEGORY        START             STOP  \\\n",
       "0  01-01-2016 21:11  01-01-2016 21:17  Business  Fort Pierce      Fort Pierce   \n",
       "1  01-02-2016 01:25  01-02-2016 01:37  Business  Fort Pierce      Fort Pierce   \n",
       "2  01-02-2016 20:25  01-02-2016 20:38  Business  Fort Pierce      Fort Pierce   \n",
       "3  01-05-2016 17:31  01-05-2016 17:45  Business  Fort Pierce      Fort Pierce   \n",
       "4  01-06-2016 14:42  01-06-2016 15:49  Business  Fort Pierce  West Palm Beach   \n",
       "\n",
       "   MILES          PURPOSE  \n",
       "0    5.1   Meal/Entertain  \n",
       "1    5.0              NaN  \n",
       "2    4.8  Errand/Supplies  \n",
       "3    4.7          Meeting  \n",
       "4   63.7   Customer Visit  "
      ]
     },
     "execution_count": 6,
     "metadata": {},
     "output_type": "execute_result"
    }
   ],
   "source": [
    "df = pd.read_csv('DS_Miniproject/UberDataset.csv')\n",
    "# df.drop(['Unnamed: 0','key'], axis=1, inplace=True)\n",
    "df.head()"
   ]
  },
  {
   "cell_type": "code",
   "execution_count": 3,
   "id": "6a17a691",
   "metadata": {
    "execution": {
     "iopub.execute_input": "2023-08-07T11:06:59.829205Z",
     "iopub.status.busy": "2023-08-07T11:06:59.828384Z",
     "iopub.status.idle": "2023-08-07T11:06:59.839766Z",
     "shell.execute_reply": "2023-08-07T11:06:59.838665Z"
    },
    "papermill": {
     "duration": 0.038544,
     "end_time": "2023-08-07T11:06:59.842441",
     "exception": false,
     "start_time": "2023-08-07T11:06:59.803897",
     "status": "completed"
    },
    "tags": []
   },
   "outputs": [
    {
     "data": {
      "text/plain": [
       "fare_amount          0\n",
       "pickup_datetime      0\n",
       "pickup_longitude     0\n",
       "pickup_latitude      0\n",
       "dropoff_longitude    1\n",
       "dropoff_latitude     1\n",
       "passenger_count      0\n",
       "dtype: int64"
      ]
     },
     "execution_count": 3,
     "metadata": {},
     "output_type": "execute_result"
    }
   ],
   "source": [
    "df.isnull().sum()"
   ]
  },
  {
   "cell_type": "code",
   "execution_count": 4,
   "id": "941c685b",
   "metadata": {
    "execution": {
     "iopub.execute_input": "2023-08-07T11:06:59.890921Z",
     "iopub.status.busy": "2023-08-07T11:06:59.890547Z",
     "iopub.status.idle": "2023-08-07T11:06:59.986048Z",
     "shell.execute_reply": "2023-08-07T11:06:59.984688Z"
    },
    "papermill": {
     "duration": 0.123514,
     "end_time": "2023-08-07T11:06:59.989091",
     "exception": false,
     "start_time": "2023-08-07T11:06:59.865577",
     "status": "completed"
    },
    "tags": []
   },
   "outputs": [
    {
     "data": {
      "text/plain": [
       "0"
      ]
     },
     "execution_count": 4,
     "metadata": {},
     "output_type": "execute_result"
    }
   ],
   "source": [
    "df.duplicated().sum()"
   ]
  },
  {
   "cell_type": "code",
   "execution_count": 5,
   "id": "e58f73bd",
   "metadata": {
    "execution": {
     "iopub.execute_input": "2023-08-07T11:07:00.041314Z",
     "iopub.status.busy": "2023-08-07T11:07:00.040857Z",
     "iopub.status.idle": "2023-08-07T11:07:00.056406Z",
     "shell.execute_reply": "2023-08-07T11:07:00.055238Z"
    },
    "papermill": {
     "duration": 0.045807,
     "end_time": "2023-08-07T11:07:00.059870",
     "exception": false,
     "start_time": "2023-08-07T11:07:00.014063",
     "status": "completed"
    },
    "tags": []
   },
   "outputs": [],
   "source": [
    "df.dropna(inplace=True)"
   ]
  },
  {
   "cell_type": "code",
   "execution_count": 6,
   "id": "8efa891b",
   "metadata": {
    "execution": {
     "iopub.execute_input": "2023-08-07T11:07:00.110320Z",
     "iopub.status.busy": "2023-08-07T11:07:00.109935Z",
     "iopub.status.idle": "2023-08-07T11:07:00.133486Z",
     "shell.execute_reply": "2023-08-07T11:07:00.131989Z"
    },
    "papermill": {
     "duration": 0.052199,
     "end_time": "2023-08-07T11:07:00.136450",
     "exception": false,
     "start_time": "2023-08-07T11:07:00.084251",
     "status": "completed"
    },
    "tags": []
   },
   "outputs": [
    {
     "name": "stdout",
     "output_type": "stream",
     "text": [
      "<class 'pandas.core.frame.DataFrame'>\n",
      "Int64Index: 199999 entries, 0 to 199999\n",
      "Data columns (total 7 columns):\n",
      " #   Column             Non-Null Count   Dtype              \n",
      "---  ------             --------------   -----              \n",
      " 0   fare_amount        199999 non-null  float64            \n",
      " 1   pickup_datetime    199999 non-null  datetime64[ns, UTC]\n",
      " 2   pickup_longitude   199999 non-null  float64            \n",
      " 3   pickup_latitude    199999 non-null  float64            \n",
      " 4   dropoff_longitude  199999 non-null  float64            \n",
      " 5   dropoff_latitude   199999 non-null  float64            \n",
      " 6   passenger_count    199999 non-null  int64              \n",
      "dtypes: datetime64[ns, UTC](1), float64(5), int64(1)\n",
      "memory usage: 12.2 MB\n"
     ]
    }
   ],
   "source": [
    "df.info()"
   ]
  },
  {
   "cell_type": "markdown",
   "id": "d7e13414",
   "metadata": {
    "papermill": {
     "duration": 0.025513,
     "end_time": "2023-08-07T11:07:00.186388",
     "exception": false,
     "start_time": "2023-08-07T11:07:00.160875",
     "status": "completed"
    },
    "tags": []
   },
   "source": [
    "#### This part of the code filters the DataFrame df to retain only those rows where the pickup and dropoff latitude and longitude values    are within valid geographical coordinates on Earth's surface. The conditions specified in the code ensure that:\n",
    "\n",
    "- pickup_latitude is less than 90 and greater than -90 (valid latitude range).\\\n",
    "- dropoff_latitude is less than 90 and greater than -90 (valid latitude range).\\\n",
    "- pickup_longitude is less than 180 and greater than -180 (valid longitude range).\\\n",
    "- dropoff_longitude is less than 180 and greater than -180 (valid longitude range).\n"
   ]
  },
  {
   "cell_type": "code",
   "execution_count": 8,
   "id": "8a42458e",
   "metadata": {
    "execution": {
     "iopub.execute_input": "2023-08-07T11:07:02.014449Z",
     "iopub.status.busy": "2023-08-07T11:07:02.013282Z",
     "iopub.status.idle": "2023-08-07T11:07:02.035134Z",
     "shell.execute_reply": "2023-08-07T11:07:02.034063Z"
    },
    "papermill": {
     "duration": 0.188361,
     "end_time": "2023-08-07T11:07:02.037880",
     "exception": false,
     "start_time": "2023-08-07T11:07:01.849519",
     "status": "completed"
    },
    "tags": []
   },
   "outputs": [],
   "source": [
    "df = df[(df.pickup_latitude<90) & (df.dropoff_latitude<90) &\n",
    "        (df.pickup_latitude>-90) & (df.dropoff_latitude>-90) &\n",
    "        (df.pickup_longitude<180) & (df.dropoff_longitude<180) &\n",
    "        (df.pickup_longitude>-180) & (df.dropoff_longitude>-180)]"
   ]
  },
  {
   "cell_type": "code",
   "execution_count": 10,
   "id": "310a82c8",
   "metadata": {
    "execution": {
     "iopub.execute_input": "2023-08-07T11:07:04.331134Z",
     "iopub.status.busy": "2023-08-07T11:07:04.329975Z",
     "iopub.status.idle": "2023-08-07T11:07:04.465169Z",
     "shell.execute_reply": "2023-08-07T11:07:04.463762Z"
    },
    "papermill": {
     "duration": 0.424876,
     "end_time": "2023-08-07T11:07:04.468468",
     "exception": false,
     "start_time": "2023-08-07T11:07:04.043592",
     "status": "completed"
    },
    "tags": []
   },
   "outputs": [],
   "source": [
    "df['year'] = df.pickup_datetime.dt.year\n",
    "df['month'] = df.pickup_datetime.dt.month\n",
    "df['weekday'] = df.pickup_datetime.dt.weekday\n",
    "df['hour'] = df.pickup_datetime.dt.hour\n",
    "\n",
    "df['Monthly_Quarter'] = df.month.map({1:'Q1',2:'Q1',3:'Q1',4:'Q2',5:'Q2',6:'Q2',7:'Q3',\n",
    "                                      8:'Q3',9:'Q3',10:'Q4',11:'Q4',12:'Q4'})\n",
    "\n",
    "df['Hourly_Segments'] = df.hour.map({0:'H1',1:'H1',2:'H1',3:'H1',4:'H2',5:'H2',6:'H2',7:'H2',8:'H3',\n",
    "                                     9:'H3',10:'H3',11:'H3',12:'H4',13:'H4',14:'H4',15:'H4',16:'H5',\n",
    "                                     17:'H5',18:'H5',19:'H5',20:'H6',21:'H6',22:'H6',23:'H6'})"
   ]
  },
  {
   "cell_type": "code",
   "execution_count": 11,
   "id": "cc5f1913",
   "metadata": {
    "execution": {
     "iopub.execute_input": "2023-08-07T11:07:05.030120Z",
     "iopub.status.busy": "2023-08-07T11:07:05.029746Z",
     "iopub.status.idle": "2023-08-07T11:07:05.053847Z",
     "shell.execute_reply": "2023-08-07T11:07:05.052879Z"
    },
    "papermill": {
     "duration": 0.307472,
     "end_time": "2023-08-07T11:07:05.056486",
     "exception": false,
     "start_time": "2023-08-07T11:07:04.749014",
     "status": "completed"
    },
    "tags": []
   },
   "outputs": [],
   "source": [
    "df.drop(['pickup_datetime','month', 'hour',], axis=1, inplace=True)"
   ]
  },
  {
   "cell_type": "markdown",
   "id": "ea8cc0b4",
   "metadata": {
    "papermill": {
     "duration": 0.283153,
     "end_time": "2023-08-07T11:07:06.213024",
     "exception": false,
     "start_time": "2023-08-07T11:07:05.929871",
     "status": "completed"
    },
    "tags": []
   },
   "source": [
    "### Haversine formula :\n",
    "\n",
    "a = sin²(Δφ/2) + cos(φ1) * cos(φ2) * sin²(Δλ/2)\\\n",
    "c = 2 * atan2(√a, √(1-a))\\\n",
    "distance = R * c\n",
    "\n",
    "- φ1,φ2 : latitudes of the two points (in radians).\\\n",
    "- Δφ : difference in latitude between the two points.\\\n",
    "- Δλ : difference in longitude between the two points.\\\n",
    "- R : radius of the Earth (approximately 6,371 kilometers).\\\n",
    "\n",
    "distance is the great-circle distance between the two points (also known as the \"as-the-crow-flies\" distance).\n",
    "The geopy library, which is used in the provided code, encapsulates this Haversine formula and provides a convenient way to calculate distances between geographic coordinates accurately.\\\n",
    "\n",
    "Using the Haversine formula ensures that the calculated distances between pickup and dropoff coordinates are more accurate for real-world distances on the Earth's surface, especially over long distances or near the poles where the Earth's curvature becomes more significant. This makes it suitable for various applications, such as calculating travel distances, optimizing routes, or geospatial analysis.\n",
    "\n",
    "\n"
   ]
  },
  {
   "cell_type": "code",
   "execution_count": 13,
   "id": "c7fc560e",
   "metadata": {
    "execution": {
     "iopub.execute_input": "2023-08-07T11:07:06.775726Z",
     "iopub.status.busy": "2023-08-07T11:07:06.774539Z",
     "iopub.status.idle": "2023-08-07T11:07:06.786075Z",
     "shell.execute_reply": "2023-08-07T11:07:06.785188Z"
    },
    "papermill": {
     "duration": 0.295647,
     "end_time": "2023-08-07T11:07:06.788574",
     "exception": false,
     "start_time": "2023-08-07T11:07:06.492927",
     "status": "completed"
    },
    "tags": []
   },
   "outputs": [],
   "source": [
    "def distance_transform(longitude1, latitude1, longitude2, latitude2):\n",
    "    travel_dist = []\n",
    "    \n",
    "    for pos in range(len(longitude1)):\n",
    "        long1,lati1,long2,lati2 = map(radians,[longitude1[pos],latitude1[pos],longitude2[pos],latitude2[pos]])\n",
    "        dist_long = long2 - long1\n",
    "        dist_lati = lati2 - lati1\n",
    "        a = sin(dist_lati/2)**2 + cos(lati1) * cos(lati2) * sin(dist_long/2)**2\n",
    "        c = 2 * asin(sqrt(a))*6371\n",
    "        travel_dist.append(c)\n",
    "       \n",
    "    return travel_dist"
   ]
  },
  {
   "cell_type": "code",
   "execution_count": 14,
   "id": "022c2226",
   "metadata": {
    "execution": {
     "iopub.execute_input": "2023-08-07T11:07:07.386444Z",
     "iopub.status.busy": "2023-08-07T11:07:07.385254Z",
     "iopub.status.idle": "2023-08-07T11:07:08.154592Z",
     "shell.execute_reply": "2023-08-07T11:07:08.153324Z"
    },
    "papermill": {
     "duration": 1.067542,
     "end_time": "2023-08-07T11:07:08.157526",
     "exception": false,
     "start_time": "2023-08-07T11:07:07.089984",
     "status": "completed"
    },
    "tags": []
   },
   "outputs": [],
   "source": [
    "df['Distance']=distance_transform(df['pickup_longitude'].to_numpy(),\n",
    "                                                df['pickup_latitude'].to_numpy(),\n",
    "                                                df['dropoff_longitude'].to_numpy(),\n",
    "                                                df['dropoff_latitude'].to_numpy())\n",
    "df['Distance'] = df['Distance'].round(3)"
   ]
  },
  {
   "cell_type": "code",
   "execution_count": 15,
   "id": "019e7e11",
   "metadata": {
    "execution": {
     "iopub.execute_input": "2023-08-07T11:07:08.727110Z",
     "iopub.status.busy": "2023-08-07T11:07:08.726739Z",
     "iopub.status.idle": "2023-08-07T11:07:08.786049Z",
     "shell.execute_reply": "2023-08-07T11:07:08.785186Z"
    },
    "papermill": {
     "duration": 0.347953,
     "end_time": "2023-08-07T11:07:08.788284",
     "exception": false,
     "start_time": "2023-08-07T11:07:08.440331",
     "status": "completed"
    },
    "tags": []
   },
   "outputs": [
    {
     "data": {
      "text/markdown": [
       "***Categorical Variables Dataframe:***"
      ],
      "text/plain": [
       "<IPython.core.display.Markdown object>"
      ]
     },
     "metadata": {},
     "output_type": "display_data"
    },
    {
     "data": {
      "text/html": [
       "<div>\n",
       "<style scoped>\n",
       "    .dataframe tbody tr th:only-of-type {\n",
       "        vertical-align: middle;\n",
       "    }\n",
       "\n",
       "    .dataframe tbody tr th {\n",
       "        vertical-align: top;\n",
       "    }\n",
       "\n",
       "    .dataframe thead th {\n",
       "        text-align: right;\n",
       "    }\n",
       "</style>\n",
       "<table border=\"1\" class=\"dataframe\">\n",
       "  <thead>\n",
       "    <tr style=\"text-align: right;\">\n",
       "      <th></th>\n",
       "      <th>Monthly_Quarter</th>\n",
       "      <th>Hourly_Segments</th>\n",
       "    </tr>\n",
       "  </thead>\n",
       "  <tbody>\n",
       "    <tr>\n",
       "      <th>0</th>\n",
       "      <td>Q2</td>\n",
       "      <td>H5</td>\n",
       "    </tr>\n",
       "    <tr>\n",
       "      <th>1</th>\n",
       "      <td>Q3</td>\n",
       "      <td>H6</td>\n",
       "    </tr>\n",
       "    <tr>\n",
       "      <th>2</th>\n",
       "      <td>Q3</td>\n",
       "      <td>H6</td>\n",
       "    </tr>\n",
       "    <tr>\n",
       "      <th>3</th>\n",
       "      <td>Q2</td>\n",
       "      <td>H3</td>\n",
       "    </tr>\n",
       "    <tr>\n",
       "      <th>4</th>\n",
       "      <td>Q3</td>\n",
       "      <td>H5</td>\n",
       "    </tr>\n",
       "  </tbody>\n",
       "</table>\n",
       "</div>"
      ],
      "text/plain": [
       "  Monthly_Quarter Hourly_Segments\n",
       "0              Q2              H5\n",
       "1              Q3              H6\n",
       "2              Q3              H6\n",
       "3              Q2              H3\n",
       "4              Q3              H5"
      ]
     },
     "metadata": {},
     "output_type": "display_data"
    },
    {
     "data": {
      "text/markdown": [
       "***Numeric Variables Dataframe:***"
      ],
      "text/plain": [
       "<IPython.core.display.Markdown object>"
      ]
     },
     "metadata": {},
     "output_type": "display_data"
    },
    {
     "data": {
      "text/html": [
       "<div>\n",
       "<style scoped>\n",
       "    .dataframe tbody tr th:only-of-type {\n",
       "        vertical-align: middle;\n",
       "    }\n",
       "\n",
       "    .dataframe tbody tr th {\n",
       "        vertical-align: top;\n",
       "    }\n",
       "\n",
       "    .dataframe thead th {\n",
       "        text-align: right;\n",
       "    }\n",
       "</style>\n",
       "<table border=\"1\" class=\"dataframe\">\n",
       "  <thead>\n",
       "    <tr style=\"text-align: right;\">\n",
       "      <th></th>\n",
       "      <th>fare_amount</th>\n",
       "      <th>pickup_longitude</th>\n",
       "      <th>pickup_latitude</th>\n",
       "      <th>dropoff_longitude</th>\n",
       "      <th>dropoff_latitude</th>\n",
       "      <th>passenger_count</th>\n",
       "      <th>year</th>\n",
       "      <th>weekday</th>\n",
       "      <th>Distance</th>\n",
       "    </tr>\n",
       "  </thead>\n",
       "  <tbody>\n",
       "    <tr>\n",
       "      <th>0</th>\n",
       "      <td>7.5</td>\n",
       "      <td>-73.999817</td>\n",
       "      <td>40.738354</td>\n",
       "      <td>-73.999512</td>\n",
       "      <td>40.723217</td>\n",
       "      <td>1</td>\n",
       "      <td>2015</td>\n",
       "      <td>3</td>\n",
       "      <td>1.683</td>\n",
       "    </tr>\n",
       "    <tr>\n",
       "      <th>1</th>\n",
       "      <td>7.7</td>\n",
       "      <td>-73.994355</td>\n",
       "      <td>40.728225</td>\n",
       "      <td>-73.994710</td>\n",
       "      <td>40.750325</td>\n",
       "      <td>1</td>\n",
       "      <td>2009</td>\n",
       "      <td>4</td>\n",
       "      <td>2.458</td>\n",
       "    </tr>\n",
       "    <tr>\n",
       "      <th>2</th>\n",
       "      <td>12.9</td>\n",
       "      <td>-74.005043</td>\n",
       "      <td>40.740770</td>\n",
       "      <td>-73.962565</td>\n",
       "      <td>40.772647</td>\n",
       "      <td>1</td>\n",
       "      <td>2009</td>\n",
       "      <td>0</td>\n",
       "      <td>5.036</td>\n",
       "    </tr>\n",
       "    <tr>\n",
       "      <th>3</th>\n",
       "      <td>5.3</td>\n",
       "      <td>-73.976124</td>\n",
       "      <td>40.790844</td>\n",
       "      <td>-73.965316</td>\n",
       "      <td>40.803349</td>\n",
       "      <td>3</td>\n",
       "      <td>2009</td>\n",
       "      <td>4</td>\n",
       "      <td>1.662</td>\n",
       "    </tr>\n",
       "    <tr>\n",
       "      <th>4</th>\n",
       "      <td>16.0</td>\n",
       "      <td>-73.925023</td>\n",
       "      <td>40.744085</td>\n",
       "      <td>-73.973082</td>\n",
       "      <td>40.761247</td>\n",
       "      <td>5</td>\n",
       "      <td>2014</td>\n",
       "      <td>3</td>\n",
       "      <td>4.475</td>\n",
       "    </tr>\n",
       "  </tbody>\n",
       "</table>\n",
       "</div>"
      ],
      "text/plain": [
       "   fare_amount  pickup_longitude  pickup_latitude  dropoff_longitude  \\\n",
       "0          7.5        -73.999817        40.738354         -73.999512   \n",
       "1          7.7        -73.994355        40.728225         -73.994710   \n",
       "2         12.9        -74.005043        40.740770         -73.962565   \n",
       "3          5.3        -73.976124        40.790844         -73.965316   \n",
       "4         16.0        -73.925023        40.744085         -73.973082   \n",
       "\n",
       "   dropoff_latitude  passenger_count  year  weekday  Distance  \n",
       "0         40.723217                1  2015        3     1.683  \n",
       "1         40.750325                1  2009        4     2.458  \n",
       "2         40.772647                1  2009        0     5.036  \n",
       "3         40.803349                3  2009        4     1.662  \n",
       "4         40.761247                5  2014        3     4.475  "
      ]
     },
     "metadata": {},
     "output_type": "display_data"
    }
   ],
   "source": [
    "cat = df.select_dtypes(include='object')\n",
    "num = df.select_dtypes(exclude='object')\n",
    "\n",
    "print('\\n\\033[1mInference:\\033[0m The Datset has {} numerical & {} categorical features.'.format(len(num.columns),len(cat.columns)))"
   ]
  },
  {
   "cell_type": "markdown",
   "id": "30eac109",
   "metadata": {
    "papermill": {
     "duration": 0.286955,
     "end_time": "2023-08-07T11:07:09.938326",
     "exception": false,
     "start_time": "2023-08-07T11:07:09.651371",
     "status": "completed"
    },
    "tags": []
   },
   "source": [
    "## Encoding Categorical Features"
   ]
  },
  {
   "cell_type": "code",
   "execution_count": 17,
   "id": "b86b5077",
   "metadata": {
    "execution": {
     "iopub.execute_input": "2023-08-07T11:07:10.522726Z",
     "iopub.status.busy": "2023-08-07T11:07:10.522349Z",
     "iopub.status.idle": "2023-08-07T11:07:10.680196Z",
     "shell.execute_reply": "2023-08-07T11:07:10.678573Z"
    },
    "papermill": {
     "duration": 0.448451,
     "end_time": "2023-08-07T11:07:10.683815",
     "exception": false,
     "start_time": "2023-08-07T11:07:10.235364",
     "status": "completed"
    },
    "tags": []
   },
   "outputs": [
    {
     "name": "stdout",
     "output_type": "stream",
     "text": [
      "Hour Segments Decoded Categories: ['H5' 'H6' 'H6' ... 'H1' 'H4' 'H2']\n",
      "Decoded Categories: ['Q2' 'Q3' 'Q3' ... 'Q2' 'Q2' 'Q2']\n"
     ]
    }
   ],
   "source": [
    "Hour_encoder = LabelEncoder()\n",
    "Month_encoder = LabelEncoder()\n",
    "\n",
    "df.Monthly_Quarter = Month_encoder.fit_transform(df.Monthly_Quarter)\n",
    "df.Hourly_Segments = Hour_encoder.fit_transform(df.Hourly_Segments)\n",
    "\n",
    "Hour_Segments_decoded = Hour_encoder.inverse_transform(df.Hourly_Segments)\n",
    "print(\"Hour Segments Decoded Categories:\", Hour_Segments_decoded)\n",
    "\n",
    "Month_Segments_decoded = Month_encoder.inverse_transform(df.Monthly_Quarter)\n",
    "print(\"Decoded Categories:\", Month_Segments_decoded)"
   ]
  },
  {
   "cell_type": "code",
   "execution_count": 20,
   "id": "bca61bd5",
   "metadata": {
    "execution": {
     "iopub.execute_input": "2023-08-07T11:07:13.068000Z",
     "iopub.status.busy": "2023-08-07T11:07:13.067418Z",
     "iopub.status.idle": "2023-08-07T11:07:13.086892Z",
     "shell.execute_reply": "2023-08-07T11:07:13.085609Z"
    },
    "papermill": {
     "duration": 0.307018,
     "end_time": "2023-08-07T11:07:13.089579",
     "exception": false,
     "start_time": "2023-08-07T11:07:12.782561",
     "status": "completed"
    },
    "tags": []
   },
   "outputs": [
    {
     "data": {
      "text/html": [
       "<div>\n",
       "<style scoped>\n",
       "    .dataframe tbody tr th:only-of-type {\n",
       "        vertical-align: middle;\n",
       "    }\n",
       "\n",
       "    .dataframe tbody tr th {\n",
       "        vertical-align: top;\n",
       "    }\n",
       "\n",
       "    .dataframe thead th {\n",
       "        text-align: right;\n",
       "    }\n",
       "</style>\n",
       "<table border=\"1\" class=\"dataframe\">\n",
       "  <thead>\n",
       "    <tr style=\"text-align: right;\">\n",
       "      <th></th>\n",
       "      <th>fare_amount</th>\n",
       "      <th>pickup_longitude</th>\n",
       "      <th>pickup_latitude</th>\n",
       "      <th>dropoff_longitude</th>\n",
       "      <th>dropoff_latitude</th>\n",
       "      <th>passenger_count</th>\n",
       "      <th>year</th>\n",
       "      <th>weekday</th>\n",
       "      <th>Monthly_Quarter</th>\n",
       "      <th>Hourly_Segments</th>\n",
       "      <th>Distance</th>\n",
       "    </tr>\n",
       "  </thead>\n",
       "  <tbody>\n",
       "    <tr>\n",
       "      <th>0</th>\n",
       "      <td>7.5</td>\n",
       "      <td>-73.999817</td>\n",
       "      <td>40.738354</td>\n",
       "      <td>-73.999512</td>\n",
       "      <td>40.723217</td>\n",
       "      <td>1</td>\n",
       "      <td>2015</td>\n",
       "      <td>3</td>\n",
       "      <td>1</td>\n",
       "      <td>4</td>\n",
       "      <td>1.683</td>\n",
       "    </tr>\n",
       "    <tr>\n",
       "      <th>1</th>\n",
       "      <td>7.7</td>\n",
       "      <td>-73.994355</td>\n",
       "      <td>40.728225</td>\n",
       "      <td>-73.994710</td>\n",
       "      <td>40.750325</td>\n",
       "      <td>1</td>\n",
       "      <td>2009</td>\n",
       "      <td>4</td>\n",
       "      <td>2</td>\n",
       "      <td>5</td>\n",
       "      <td>2.458</td>\n",
       "    </tr>\n",
       "    <tr>\n",
       "      <th>2</th>\n",
       "      <td>12.9</td>\n",
       "      <td>-74.005043</td>\n",
       "      <td>40.740770</td>\n",
       "      <td>-73.962565</td>\n",
       "      <td>40.772647</td>\n",
       "      <td>1</td>\n",
       "      <td>2009</td>\n",
       "      <td>0</td>\n",
       "      <td>2</td>\n",
       "      <td>5</td>\n",
       "      <td>5.036</td>\n",
       "    </tr>\n",
       "    <tr>\n",
       "      <th>3</th>\n",
       "      <td>5.3</td>\n",
       "      <td>-73.976124</td>\n",
       "      <td>40.790844</td>\n",
       "      <td>-73.965316</td>\n",
       "      <td>40.803349</td>\n",
       "      <td>3</td>\n",
       "      <td>2009</td>\n",
       "      <td>4</td>\n",
       "      <td>1</td>\n",
       "      <td>2</td>\n",
       "      <td>1.662</td>\n",
       "    </tr>\n",
       "    <tr>\n",
       "      <th>4</th>\n",
       "      <td>16.0</td>\n",
       "      <td>-73.925023</td>\n",
       "      <td>40.744085</td>\n",
       "      <td>-73.973082</td>\n",
       "      <td>40.761247</td>\n",
       "      <td>5</td>\n",
       "      <td>2014</td>\n",
       "      <td>3</td>\n",
       "      <td>2</td>\n",
       "      <td>4</td>\n",
       "      <td>4.475</td>\n",
       "    </tr>\n",
       "  </tbody>\n",
       "</table>\n",
       "</div>"
      ],
      "text/plain": [
       "   fare_amount  pickup_longitude  pickup_latitude  dropoff_longitude  \\\n",
       "0          7.5        -73.999817        40.738354         -73.999512   \n",
       "1          7.7        -73.994355        40.728225         -73.994710   \n",
       "2         12.9        -74.005043        40.740770         -73.962565   \n",
       "3          5.3        -73.976124        40.790844         -73.965316   \n",
       "4         16.0        -73.925023        40.744085         -73.973082   \n",
       "\n",
       "   dropoff_latitude  passenger_count  year  weekday  Monthly_Quarter  \\\n",
       "0         40.723217                1  2015        3                1   \n",
       "1         40.750325                1  2009        4                2   \n",
       "2         40.772647                1  2009        0                2   \n",
       "3         40.803349                3  2009        4                1   \n",
       "4         40.761247                5  2014        3                2   \n",
       "\n",
       "   Hourly_Segments  Distance  \n",
       "0                4     1.683  \n",
       "1                5     2.458  \n",
       "2                5     5.036  \n",
       "3                2     1.662  \n",
       "4                4     4.475  "
      ]
     },
     "execution_count": 20,
     "metadata": {},
     "output_type": "execute_result"
    }
   ],
   "source": [
    "df.head()"
   ]
  },
  {
   "cell_type": "code",
   "execution_count": 21,
   "id": "71c459ca",
   "metadata": {
    "execution": {
     "iopub.execute_input": "2023-08-07T11:07:13.655993Z",
     "iopub.status.busy": "2023-08-07T11:07:13.655588Z",
     "iopub.status.idle": "2023-08-07T11:07:13.673326Z",
     "shell.execute_reply": "2023-08-07T11:07:13.672005Z"
    },
    "papermill": {
     "duration": 0.303761,
     "end_time": "2023-08-07T11:07:13.675702",
     "exception": false,
     "start_time": "2023-08-07T11:07:13.371941",
     "status": "completed"
    },
    "tags": []
   },
   "outputs": [
    {
     "name": "stdout",
     "output_type": "stream",
     "text": [
      "<class 'pandas.core.frame.DataFrame'>\n",
      "Int64Index: 199987 entries, 0 to 199999\n",
      "Data columns (total 11 columns):\n",
      " #   Column             Non-Null Count   Dtype  \n",
      "---  ------             --------------   -----  \n",
      " 0   fare_amount        199987 non-null  float64\n",
      " 1   pickup_longitude   199987 non-null  float64\n",
      " 2   pickup_latitude    199987 non-null  float64\n",
      " 3   dropoff_longitude  199987 non-null  float64\n",
      " 4   dropoff_latitude   199987 non-null  float64\n",
      " 5   passenger_count    199987 non-null  int64  \n",
      " 6   year               199987 non-null  int64  \n",
      " 7   weekday            199987 non-null  int64  \n",
      " 8   Monthly_Quarter    199987 non-null  int64  \n",
      " 9   Hourly_Segments    199987 non-null  int64  \n",
      " 10  Distance           199987 non-null  float64\n",
      "dtypes: float64(6), int64(5)\n",
      "memory usage: 18.3 MB\n"
     ]
    }
   ],
   "source": [
    "df.info()"
   ]
  },
  {
   "cell_type": "code",
   "execution_count": 22,
   "id": "6a49e7aa",
   "metadata": {
    "execution": {
     "iopub.execute_input": "2023-08-07T11:07:14.245974Z",
     "iopub.status.busy": "2023-08-07T11:07:14.244912Z",
     "iopub.status.idle": "2023-08-07T11:07:14.370565Z",
     "shell.execute_reply": "2023-08-07T11:07:14.369012Z"
    },
    "papermill": {
     "duration": 0.415239,
     "end_time": "2023-08-07T11:07:14.373398",
     "exception": false,
     "start_time": "2023-08-07T11:07:13.958159",
     "status": "completed"
    },
    "tags": []
   },
   "outputs": [
    {
     "name": "stdout",
     "output_type": "stream",
     "text": [
      "\n",
      "\u001b[1mInference:\u001b[0m Number of duplicates dropped/fixed ---> 109\n"
     ]
    }
   ],
   "source": [
    "counter = 0\n",
    "rs,cs = df.shape\n",
    "\n",
    "df.drop_duplicates(inplace=True)\n",
    "df.drop(['pickup_latitude','pickup_longitude',\n",
    "         'dropoff_latitude','dropoff_longitude'],axis=1)\n",
    "\n",
    "if df.shape==(rs,cs):\n",
    "    print('\\n\\033[1mInference:\\033[0m The dataset doesn\\'t have any duplicates')\n",
    "else:\n",
    "    print(f'\\n\\033[1mInference:\\033[0m Number of duplicates dropped/fixed ---> {rs-df.shape[0]}')"
   ]
  },
  {
   "cell_type": "markdown",
   "id": "0db9c276",
   "metadata": {
    "papermill": {
     "duration": 0.279473,
     "end_time": "2023-08-07T11:07:14.940190",
     "exception": false,
     "start_time": "2023-08-07T11:07:14.660717",
     "status": "completed"
    },
    "tags": []
   },
   "source": [
    "## Outliers Removal "
   ]
  },
  {
   "cell_type": "code",
   "execution_count": 25,
   "id": "ab9c7fd7",
   "metadata": {
    "execution": {
     "iopub.execute_input": "2023-08-07T11:07:19.148799Z",
     "iopub.status.busy": "2023-08-07T11:07:19.148074Z",
     "iopub.status.idle": "2023-08-07T11:07:19.171540Z",
     "shell.execute_reply": "2023-08-07T11:07:19.170239Z"
    },
    "papermill": {
     "duration": 0.312146,
     "end_time": "2023-08-07T11:07:19.174338",
     "exception": false,
     "start_time": "2023-08-07T11:07:18.862192",
     "status": "completed"
    },
    "tags": []
   },
   "outputs": [
    {
     "data": {
      "text/html": [
       "<div>\n",
       "<style scoped>\n",
       "    .dataframe tbody tr th:only-of-type {\n",
       "        vertical-align: middle;\n",
       "    }\n",
       "\n",
       "    .dataframe tbody tr th {\n",
       "        vertical-align: top;\n",
       "    }\n",
       "\n",
       "    .dataframe thead th {\n",
       "        text-align: right;\n",
       "    }\n",
       "</style>\n",
       "<table border=\"1\" class=\"dataframe\">\n",
       "  <thead>\n",
       "    <tr style=\"text-align: right;\">\n",
       "      <th></th>\n",
       "      <th>fare_amount</th>\n",
       "      <th>pickup_longitude</th>\n",
       "      <th>pickup_latitude</th>\n",
       "      <th>dropoff_longitude</th>\n",
       "      <th>dropoff_latitude</th>\n",
       "      <th>passenger_count</th>\n",
       "      <th>year</th>\n",
       "      <th>weekday</th>\n",
       "      <th>Monthly_Quarter</th>\n",
       "      <th>Hourly_Segments</th>\n",
       "      <th>Distance</th>\n",
       "    </tr>\n",
       "  </thead>\n",
       "  <tbody>\n",
       "    <tr>\n",
       "      <th>346</th>\n",
       "      <td>15.5</td>\n",
       "      <td>0.000000</td>\n",
       "      <td>0.000000</td>\n",
       "      <td>-73.979805</td>\n",
       "      <td>40.786030</td>\n",
       "      <td>1</td>\n",
       "      <td>2015</td>\n",
       "      <td>3</td>\n",
       "      <td>0</td>\n",
       "      <td>4</td>\n",
       "      <td>8666.398</td>\n",
       "    </tr>\n",
       "    <tr>\n",
       "      <th>1067</th>\n",
       "      <td>52.0</td>\n",
       "      <td>-73.781095</td>\n",
       "      <td>40.645015</td>\n",
       "      <td>0.000000</td>\n",
       "      <td>0.000000</td>\n",
       "      <td>1</td>\n",
       "      <td>2014</td>\n",
       "      <td>6</td>\n",
       "      <td>0</td>\n",
       "      <td>5</td>\n",
       "      <td>8647.036</td>\n",
       "    </tr>\n",
       "    <tr>\n",
       "      <th>1526</th>\n",
       "      <td>2.5</td>\n",
       "      <td>-74.001849</td>\n",
       "      <td>40.715156</td>\n",
       "      <td>0.000000</td>\n",
       "      <td>0.000000</td>\n",
       "      <td>3</td>\n",
       "      <td>2014</td>\n",
       "      <td>0</td>\n",
       "      <td>1</td>\n",
       "      <td>3</td>\n",
       "      <td>8666.772</td>\n",
       "    </tr>\n",
       "    <tr>\n",
       "      <th>1945</th>\n",
       "      <td>7.0</td>\n",
       "      <td>-0.131667</td>\n",
       "      <td>40.757063</td>\n",
       "      <td>-73.991593</td>\n",
       "      <td>40.749953</td>\n",
       "      <td>1</td>\n",
       "      <td>2013</td>\n",
       "      <td>6</td>\n",
       "      <td>0</td>\n",
       "      <td>4</td>\n",
       "      <td>6021.114</td>\n",
       "    </tr>\n",
       "    <tr>\n",
       "      <th>2167</th>\n",
       "      <td>5.7</td>\n",
       "      <td>-1.216667</td>\n",
       "      <td>40.748597</td>\n",
       "      <td>-74.004822</td>\n",
       "      <td>40.734670</td>\n",
       "      <td>1</td>\n",
       "      <td>2012</td>\n",
       "      <td>5</td>\n",
       "      <td>2</td>\n",
       "      <td>3</td>\n",
       "      <td>5941.060</td>\n",
       "    </tr>\n",
       "    <tr>\n",
       "      <th>...</th>\n",
       "      <td>...</td>\n",
       "      <td>...</td>\n",
       "      <td>...</td>\n",
       "      <td>...</td>\n",
       "      <td>...</td>\n",
       "      <td>...</td>\n",
       "      <td>...</td>\n",
       "      <td>...</td>\n",
       "      <td>...</td>\n",
       "      <td>...</td>\n",
       "      <td>...</td>\n",
       "    </tr>\n",
       "    <tr>\n",
       "      <th>197863</th>\n",
       "      <td>7.0</td>\n",
       "      <td>-73.962190</td>\n",
       "      <td>40.759158</td>\n",
       "      <td>0.000000</td>\n",
       "      <td>0.000000</td>\n",
       "      <td>1</td>\n",
       "      <td>2014</td>\n",
       "      <td>1</td>\n",
       "      <td>3</td>\n",
       "      <td>5</td>\n",
       "      <td>8664.389</td>\n",
       "    </tr>\n",
       "    <tr>\n",
       "      <th>198567</th>\n",
       "      <td>23.5</td>\n",
       "      <td>-73.968115</td>\n",
       "      <td>40.801455</td>\n",
       "      <td>0.000000</td>\n",
       "      <td>0.000000</td>\n",
       "      <td>2</td>\n",
       "      <td>2013</td>\n",
       "      <td>0</td>\n",
       "      <td>3</td>\n",
       "      <td>0</td>\n",
       "      <td>8665.747</td>\n",
       "    </tr>\n",
       "    <tr>\n",
       "      <th>198665</th>\n",
       "      <td>20.1</td>\n",
       "      <td>-0.116667</td>\n",
       "      <td>40.729775</td>\n",
       "      <td>0.000000</td>\n",
       "      <td>0.000000</td>\n",
       "      <td>5</td>\n",
       "      <td>2012</td>\n",
       "      <td>1</td>\n",
       "      <td>1</td>\n",
       "      <td>5</td>\n",
       "      <td>4528.960</td>\n",
       "    </tr>\n",
       "    <tr>\n",
       "      <th>199403</th>\n",
       "      <td>7.0</td>\n",
       "      <td>-67.370360</td>\n",
       "      <td>39.999790</td>\n",
       "      <td>-73.971058</td>\n",
       "      <td>40.753000</td>\n",
       "      <td>1</td>\n",
       "      <td>2013</td>\n",
       "      <td>6</td>\n",
       "      <td>0</td>\n",
       "      <td>4</td>\n",
       "      <td>565.235</td>\n",
       "    </tr>\n",
       "    <tr>\n",
       "      <th>199641</th>\n",
       "      <td>8.1</td>\n",
       "      <td>-74.000143</td>\n",
       "      <td>40.742877</td>\n",
       "      <td>-7.995197</td>\n",
       "      <td>40.759382</td>\n",
       "      <td>5</td>\n",
       "      <td>2012</td>\n",
       "      <td>4</td>\n",
       "      <td>1</td>\n",
       "      <td>3</td>\n",
       "      <td>5419.534</td>\n",
       "    </tr>\n",
       "  </tbody>\n",
       "</table>\n",
       "<p>486 rows × 11 columns</p>\n",
       "</div>"
      ],
      "text/plain": [
       "        fare_amount  pickup_longitude  pickup_latitude  dropoff_longitude  \\\n",
       "346            15.5          0.000000         0.000000         -73.979805   \n",
       "1067           52.0        -73.781095        40.645015           0.000000   \n",
       "1526            2.5        -74.001849        40.715156           0.000000   \n",
       "1945            7.0         -0.131667        40.757063         -73.991593   \n",
       "2167            5.7         -1.216667        40.748597         -74.004822   \n",
       "...             ...               ...              ...                ...   \n",
       "197863          7.0        -73.962190        40.759158           0.000000   \n",
       "198567         23.5        -73.968115        40.801455           0.000000   \n",
       "198665         20.1         -0.116667        40.729775           0.000000   \n",
       "199403          7.0        -67.370360        39.999790         -73.971058   \n",
       "199641          8.1        -74.000143        40.742877          -7.995197   \n",
       "\n",
       "        dropoff_latitude  passenger_count  year  weekday  Monthly_Quarter  \\\n",
       "346            40.786030                1  2015        3                0   \n",
       "1067            0.000000                1  2014        6                0   \n",
       "1526            0.000000                3  2014        0                1   \n",
       "1945           40.749953                1  2013        6                0   \n",
       "2167           40.734670                1  2012        5                2   \n",
       "...                  ...              ...   ...      ...              ...   \n",
       "197863          0.000000                1  2014        1                3   \n",
       "198567          0.000000                2  2013        0                3   \n",
       "198665          0.000000                5  2012        1                1   \n",
       "199403         40.753000                1  2013        6                0   \n",
       "199641         40.759382                5  2012        4                1   \n",
       "\n",
       "        Hourly_Segments  Distance  \n",
       "346                   4  8666.398  \n",
       "1067                  5  8647.036  \n",
       "1526                  3  8666.772  \n",
       "1945                  4  6021.114  \n",
       "2167                  3  5941.060  \n",
       "...                 ...       ...  \n",
       "197863                5  8664.389  \n",
       "198567                0  8665.747  \n",
       "198665                5  4528.960  \n",
       "199403                4   565.235  \n",
       "199641                3  5419.534  \n",
       "\n",
       "[486 rows x 11 columns]"
      ]
     },
     "execution_count": 25,
     "metadata": {},
     "output_type": "execute_result"
    }
   ],
   "source": [
    "df[df.Distance > 50]"
   ]
  },
  {
   "cell_type": "code",
   "execution_count": 26,
   "id": "9cf3b3a0",
   "metadata": {
    "execution": {
     "iopub.execute_input": "2023-08-07T11:07:19.752984Z",
     "iopub.status.busy": "2023-08-07T11:07:19.752551Z",
     "iopub.status.idle": "2023-08-07T11:07:19.761321Z",
     "shell.execute_reply": "2023-08-07T11:07:19.760004Z"
    },
    "papermill": {
     "duration": 0.301924,
     "end_time": "2023-08-07T11:07:19.763754",
     "exception": false,
     "start_time": "2023-08-07T11:07:19.461830",
     "status": "completed"
    },
    "tags": []
   },
   "outputs": [
    {
     "data": {
      "text/plain": [
       "8782.899"
      ]
     },
     "execution_count": 26,
     "metadata": {},
     "output_type": "execute_result"
    }
   ],
   "source": [
    "df.Distance.max()"
   ]
  },
  {
   "cell_type": "code",
   "execution_count": 27,
   "id": "d89dac2c",
   "metadata": {
    "execution": {
     "iopub.execute_input": "2023-08-07T11:07:20.345589Z",
     "iopub.status.busy": "2023-08-07T11:07:20.345116Z",
     "iopub.status.idle": "2023-08-07T11:07:20.354106Z",
     "shell.execute_reply": "2023-08-07T11:07:20.353201Z"
    },
    "papermill": {
     "duration": 0.303813,
     "end_time": "2023-08-07T11:07:20.356483",
     "exception": false,
     "start_time": "2023-08-07T11:07:20.052670",
     "status": "completed"
    },
    "tags": []
   },
   "outputs": [
    {
     "data": {
      "text/plain": [
       "499.0"
      ]
     },
     "execution_count": 27,
     "metadata": {},
     "output_type": "execute_result"
    }
   ],
   "source": [
    "df.fare_amount.max()"
   ]
  },
  {
   "cell_type": "code",
   "execution_count": 30,
   "id": "19ee0475",
   "metadata": {
    "execution": {
     "iopub.execute_input": "2023-08-07T11:07:22.774545Z",
     "iopub.status.busy": "2023-08-07T11:07:22.773391Z",
     "iopub.status.idle": "2023-08-07T11:07:22.786182Z",
     "shell.execute_reply": "2023-08-07T11:07:22.784985Z"
    },
    "papermill": {
     "duration": 0.30594,
     "end_time": "2023-08-07T11:07:22.788580",
     "exception": false,
     "start_time": "2023-08-07T11:07:22.482640",
     "status": "completed"
    },
    "tags": []
   },
   "outputs": [
    {
     "data": {
      "text/plain": [
       "6694"
      ]
     },
     "execution_count": 30,
     "metadata": {},
     "output_type": "execute_result"
    }
   ],
   "source": [
    "len(df[df.Distance < 0.1])"
   ]
  },
  {
   "cell_type": "markdown",
   "id": "4d794f8b",
   "metadata": {
    "papermill": {
     "duration": 0.290065,
     "end_time": "2023-08-07T11:07:23.367414",
     "exception": false,
     "start_time": "2023-08-07T11:07:23.077349",
     "status": "completed"
    },
    "tags": []
   },
   "source": [
    "## Observations \n",
    "\n",
    "- Fare Prices in negatives and zeroes doesn't exist and \n",
    "- Distance less than 100 meters is not often used for a uber ride\n",
    "- also with distance greater than 50 km is preferred to be Travelled by other means"
   ]
  },
  {
   "cell_type": "code",
   "execution_count": 31,
   "id": "d3a5bec6",
   "metadata": {
    "execution": {
     "iopub.execute_input": "2023-08-07T11:07:23.972275Z",
     "iopub.status.busy": "2023-08-07T11:07:23.971050Z",
     "iopub.status.idle": "2023-08-07T11:07:24.028468Z",
     "shell.execute_reply": "2023-08-07T11:07:24.027395Z"
    },
    "papermill": {
     "duration": 0.370741,
     "end_time": "2023-08-07T11:07:24.032394",
     "exception": false,
     "start_time": "2023-08-07T11:07:23.661653",
     "status": "completed"
    },
    "tags": []
   },
   "outputs": [],
   "source": [
    "df.drop(df[df.Distance > 50].index, inplace=True)\n",
    "df.drop(df[df.Distance < 0.1].index, inplace=True)\n",
    "df.drop(df[df.fare_amount <= 0].index, inplace=True)"
   ]
  },
  {
   "cell_type": "code",
   "execution_count": 32,
   "id": "ec2cdd94",
   "metadata": {
    "execution": {
     "iopub.execute_input": "2023-08-07T11:07:24.650955Z",
     "iopub.status.busy": "2023-08-07T11:07:24.650474Z",
     "iopub.status.idle": "2023-08-07T11:07:24.657781Z",
     "shell.execute_reply": "2023-08-07T11:07:24.656589Z"
    },
    "papermill": {
     "duration": 0.305131,
     "end_time": "2023-08-07T11:07:24.660231",
     "exception": false,
     "start_time": "2023-08-07T11:07:24.355100",
     "status": "completed"
    },
    "tags": []
   },
   "outputs": [
    {
     "data": {
      "text/plain": [
       "(192683, 11)"
      ]
     },
     "execution_count": 32,
     "metadata": {},
     "output_type": "execute_result"
    }
   ],
   "source": [
    "df.shape"
   ]
  },
  {
   "cell_type": "code",
   "execution_count": 33,
   "id": "348d8d27",
   "metadata": {
    "execution": {
     "iopub.execute_input": "2023-08-07T11:07:25.236402Z",
     "iopub.status.busy": "2023-08-07T11:07:25.235314Z",
     "iopub.status.idle": "2023-08-07T11:07:25.244635Z",
     "shell.execute_reply": "2023-08-07T11:07:25.243661Z"
    },
    "papermill": {
     "duration": 0.299216,
     "end_time": "2023-08-07T11:07:25.247481",
     "exception": false,
     "start_time": "2023-08-07T11:07:24.948265",
     "status": "completed"
    },
    "tags": []
   },
   "outputs": [],
   "source": [
    "original_df = df.copy()"
   ]
  },
  {
   "cell_type": "code",
   "execution_count": 36,
   "id": "0df15565",
   "metadata": {
    "execution": {
     "iopub.execute_input": "2023-08-07T11:07:27.885443Z",
     "iopub.status.busy": "2023-08-07T11:07:27.884725Z",
     "iopub.status.idle": "2023-08-07T11:07:27.959461Z",
     "shell.execute_reply": "2023-08-07T11:07:27.958535Z"
    },
    "papermill": {
     "duration": 0.37182,
     "end_time": "2023-08-07T11:07:27.962331",
     "exception": false,
     "start_time": "2023-08-07T11:07:27.590511",
     "status": "completed"
    },
    "tags": []
   },
   "outputs": [
    {
     "data": {
      "text/html": [
       "<div>\n",
       "<style scoped>\n",
       "    .dataframe tbody tr th:only-of-type {\n",
       "        vertical-align: middle;\n",
       "    }\n",
       "\n",
       "    .dataframe tbody tr th {\n",
       "        vertical-align: top;\n",
       "    }\n",
       "\n",
       "    .dataframe thead th {\n",
       "        text-align: right;\n",
       "    }\n",
       "</style>\n",
       "<table border=\"1\" class=\"dataframe\">\n",
       "  <thead>\n",
       "    <tr style=\"text-align: right;\">\n",
       "      <th></th>\n",
       "      <th>fare_amount</th>\n",
       "      <th>pickup_longitude</th>\n",
       "      <th>pickup_latitude</th>\n",
       "      <th>dropoff_longitude</th>\n",
       "      <th>dropoff_latitude</th>\n",
       "      <th>passenger_count</th>\n",
       "      <th>year</th>\n",
       "      <th>weekday</th>\n",
       "      <th>Monthly_Quarter</th>\n",
       "      <th>Hourly_Segments</th>\n",
       "      <th>Distance</th>\n",
       "    </tr>\n",
       "  </thead>\n",
       "  <tbody>\n",
       "    <tr>\n",
       "      <th>0</th>\n",
       "      <td>7.5</td>\n",
       "      <td>-73.999817</td>\n",
       "      <td>40.738354</td>\n",
       "      <td>-73.999512</td>\n",
       "      <td>40.723217</td>\n",
       "      <td>1</td>\n",
       "      <td>2015</td>\n",
       "      <td>3</td>\n",
       "      <td>1</td>\n",
       "      <td>4</td>\n",
       "      <td>1.683</td>\n",
       "    </tr>\n",
       "    <tr>\n",
       "      <th>1</th>\n",
       "      <td>7.7</td>\n",
       "      <td>-73.994355</td>\n",
       "      <td>40.728225</td>\n",
       "      <td>-73.994710</td>\n",
       "      <td>40.750325</td>\n",
       "      <td>1</td>\n",
       "      <td>2009</td>\n",
       "      <td>4</td>\n",
       "      <td>2</td>\n",
       "      <td>5</td>\n",
       "      <td>2.458</td>\n",
       "    </tr>\n",
       "    <tr>\n",
       "      <th>2</th>\n",
       "      <td>12.9</td>\n",
       "      <td>-74.005043</td>\n",
       "      <td>40.740770</td>\n",
       "      <td>-73.962565</td>\n",
       "      <td>40.772647</td>\n",
       "      <td>1</td>\n",
       "      <td>2009</td>\n",
       "      <td>0</td>\n",
       "      <td>2</td>\n",
       "      <td>5</td>\n",
       "      <td>5.036</td>\n",
       "    </tr>\n",
       "    <tr>\n",
       "      <th>3</th>\n",
       "      <td>5.3</td>\n",
       "      <td>-73.976124</td>\n",
       "      <td>40.790844</td>\n",
       "      <td>-73.965316</td>\n",
       "      <td>40.803349</td>\n",
       "      <td>3</td>\n",
       "      <td>2009</td>\n",
       "      <td>4</td>\n",
       "      <td>1</td>\n",
       "      <td>2</td>\n",
       "      <td>1.662</td>\n",
       "    </tr>\n",
       "    <tr>\n",
       "      <th>4</th>\n",
       "      <td>16.0</td>\n",
       "      <td>-73.925023</td>\n",
       "      <td>40.744085</td>\n",
       "      <td>-73.973082</td>\n",
       "      <td>40.761247</td>\n",
       "      <td>5</td>\n",
       "      <td>2014</td>\n",
       "      <td>3</td>\n",
       "      <td>2</td>\n",
       "      <td>4</td>\n",
       "      <td>4.475</td>\n",
       "    </tr>\n",
       "  </tbody>\n",
       "</table>\n",
       "</div>"
      ],
      "text/plain": [
       "   fare_amount  pickup_longitude  pickup_latitude  dropoff_longitude  \\\n",
       "0          7.5        -73.999817        40.738354         -73.999512   \n",
       "1          7.7        -73.994355        40.728225         -73.994710   \n",
       "2         12.9        -74.005043        40.740770         -73.962565   \n",
       "3          5.3        -73.976124        40.790844         -73.965316   \n",
       "4         16.0        -73.925023        40.744085         -73.973082   \n",
       "\n",
       "   dropoff_latitude  passenger_count  year  weekday  Monthly_Quarter  \\\n",
       "0         40.723217                1  2015        3                1   \n",
       "1         40.750325                1  2009        4                2   \n",
       "2         40.772647                1  2009        0                2   \n",
       "3         40.803349                3  2009        4                1   \n",
       "4         40.761247                5  2014        3                2   \n",
       "\n",
       "   Hourly_Segments  Distance  \n",
       "0                4     1.683  \n",
       "1                5     2.458  \n",
       "2                5     5.036  \n",
       "3                2     1.662  \n",
       "4                4     4.475  "
      ]
     },
     "metadata": {},
     "output_type": "display_data"
    },
    {
     "name": "stdout",
     "output_type": "stream",
     "text": [
      "\n",
      "\u001b[1mInference:\u001b[0m\n",
      "Before removal of outliers, The dataset had 192683 samples.\n",
      "After removal of outliers, The dataset now has 168614 samples.\n"
     ]
    }
   ],
   "source": [
    "features = ['fare_amount', 'Distance'] \n",
    "\n",
    "for i in features:\n",
    "    Q1 = df[i].quantile(0.25)\n",
    "    Q3 = df[i].quantile(0.75)\n",
    "    IQR = Q3 - Q1\n",
    "    df = df[df[i] <= (Q3+(1.5*IQR))]\n",
    "    df = df[df[i] >= (Q1-(1.5*IQR))]\n",
    "    df = df.reset_index(drop=True)\n",
    "display(df.head())\n",
    "print('\\n\\033[1mInference:\\033[0m\\nBefore removal of outliers, The dataset had {} samples.'.format(original_df.shape[0]))\n",
    "print('After removal of outliers, The dataset now has {} samples.'.format(df.shape[0]))\n"
   ]
  },
  {
   "cell_type": "markdown",
   "id": "8d91b8fc",
   "metadata": {
    "papermill": {
     "duration": 0.297478,
     "end_time": "2023-08-07T11:07:30.075084",
     "exception": false,
     "start_time": "2023-08-07T11:07:29.777606",
     "status": "completed"
    },
    "tags": []
   },
   "source": [
    "## Feature Selection"
   ]
  },
  {
   "cell_type": "markdown",
   "id": "24512ba7",
   "metadata": {
    "papermill": {
     "duration": 0.28961,
     "end_time": "2023-08-07T11:07:30.658751",
     "exception": false,
     "start_time": "2023-08-07T11:07:30.369141",
     "status": "completed"
    },
    "tags": []
   },
   "source": [
    "#### 1. Pearson's Correaltion feature Selection\n",
    "\n",
    "- for (Numerical Input, Numerical Output) we use Pearson's Correaltion feature Selection Regression Feature Selection\n"
   ]
  },
  {
   "cell_type": "code",
   "execution_count": 38,
   "id": "ad8af36b",
   "metadata": {
    "execution": {
     "iopub.execute_input": "2023-08-07T11:07:31.244425Z",
     "iopub.status.busy": "2023-08-07T11:07:31.243735Z",
     "iopub.status.idle": "2023-08-07T11:07:31.249791Z",
     "shell.execute_reply": "2023-08-07T11:07:31.248576Z"
    },
    "papermill": {
     "duration": 0.303968,
     "end_time": "2023-08-07T11:07:31.252542",
     "exception": false,
     "start_time": "2023-08-07T11:07:30.948574",
     "status": "completed"
    },
    "tags": []
   },
   "outputs": [],
   "source": [
    "features =  ['passenger_count', 'year',\n",
    "             'weekday', 'Monthly_Quarter', \n",
    "             'Hourly_Segments', 'Distance']\n",
    "\n",
    "target = 'fare_amount'"
   ]
  },
  {
   "cell_type": "code",
   "execution_count": 39,
   "id": "7797f44a",
   "metadata": {
    "execution": {
     "iopub.execute_input": "2023-08-07T11:07:31.839929Z",
     "iopub.status.busy": "2023-08-07T11:07:31.839214Z",
     "iopub.status.idle": "2023-08-07T11:07:31.847325Z",
     "shell.execute_reply": "2023-08-07T11:07:31.846348Z"
    },
    "papermill": {
     "duration": 0.304489,
     "end_time": "2023-08-07T11:07:31.849972",
     "exception": false,
     "start_time": "2023-08-07T11:07:31.545483",
     "status": "completed"
    },
    "tags": []
   },
   "outputs": [],
   "source": [
    "X, y = df[features], df[target]"
   ]
  },
  {
   "cell_type": "code",
   "execution_count": 40,
   "id": "cdac1aa9",
   "metadata": {
    "execution": {
     "iopub.execute_input": "2023-08-07T11:07:32.442153Z",
     "iopub.status.busy": "2023-08-07T11:07:32.441634Z",
     "iopub.status.idle": "2023-08-07T11:07:32.482864Z",
     "shell.execute_reply": "2023-08-07T11:07:32.481718Z"
    },
    "papermill": {
     "duration": 0.341443,
     "end_time": "2023-08-07T11:07:32.487967",
     "exception": false,
     "start_time": "2023-08-07T11:07:32.146524",
     "status": "completed"
    },
    "tags": []
   },
   "outputs": [
    {
     "name": "stdout",
     "output_type": "stream",
     "text": [
      "Selected features:\n",
      "\n",
      "passenger_count\n",
      "year\n",
      "weekday\n",
      "Monthly_Quarter\n",
      "Hourly_Segments\n",
      "Distance\n"
     ]
    }
   ],
   "source": [
    "selector = SelectKBest(score_func=f_regression, k=6)\n",
    "X_new = selector.fit_transform(X, y)\n",
    "\n",
    "selected_feature_indices = selector.get_support(indices=True)\n",
    "selected_features = X.columns[selected_feature_indices]\n",
    "\n",
    "print(\"Selected features:\\n\")\n",
    "print('\\n'.join(map(str, selected_features)))\n"
   ]
  },
  {
   "cell_type": "markdown",
   "id": "d6b25891",
   "metadata": {
    "papermill": {
     "duration": 0.294489,
     "end_time": "2023-08-07T11:07:33.128247",
     "exception": false,
     "start_time": "2023-08-07T11:07:32.833758",
     "status": "completed"
    },
    "tags": []
   },
   "source": [
    "### 2. Spearman's Correlation "
   ]
  },
  {
   "cell_type": "code",
   "execution_count": 41,
   "id": "0a5bba56",
   "metadata": {
    "execution": {
     "iopub.execute_input": "2023-08-07T11:07:33.711186Z",
     "iopub.status.busy": "2023-08-07T11:07:33.710808Z",
     "iopub.status.idle": "2023-08-07T11:07:34.029035Z",
     "shell.execute_reply": "2023-08-07T11:07:34.027782Z"
    },
    "papermill": {
     "duration": 0.610325,
     "end_time": "2023-08-07T11:07:34.031896",
     "exception": false,
     "start_time": "2023-08-07T11:07:33.421571",
     "status": "completed"
    },
    "tags": []
   },
   "outputs": [
    {
     "data": {
      "text/html": [
       "<div>\n",
       "<style scoped>\n",
       "    .dataframe tbody tr th:only-of-type {\n",
       "        vertical-align: middle;\n",
       "    }\n",
       "\n",
       "    .dataframe tbody tr th {\n",
       "        vertical-align: top;\n",
       "    }\n",
       "\n",
       "    .dataframe thead th {\n",
       "        text-align: right;\n",
       "    }\n",
       "</style>\n",
       "<table border=\"1\" class=\"dataframe\">\n",
       "  <thead>\n",
       "    <tr style=\"text-align: right;\">\n",
       "      <th></th>\n",
       "      <th>fare_amount</th>\n",
       "      <th>pickup_longitude</th>\n",
       "      <th>pickup_latitude</th>\n",
       "      <th>dropoff_longitude</th>\n",
       "      <th>dropoff_latitude</th>\n",
       "      <th>passenger_count</th>\n",
       "      <th>year</th>\n",
       "      <th>weekday</th>\n",
       "      <th>Monthly_Quarter</th>\n",
       "      <th>Hourly_Segments</th>\n",
       "      <th>Distance</th>\n",
       "    </tr>\n",
       "  </thead>\n",
       "  <tbody>\n",
       "    <tr>\n",
       "      <th>fare_amount</th>\n",
       "      <td>1.000000</td>\n",
       "      <td>-0.046834</td>\n",
       "      <td>-0.071199</td>\n",
       "      <td>-0.004209</td>\n",
       "      <td>-0.084333</td>\n",
       "      <td>0.023038</td>\n",
       "      <td>0.161716</td>\n",
       "      <td>0.011581</td>\n",
       "      <td>0.029703</td>\n",
       "      <td>0.013326</td>\n",
       "      <td>0.821086</td>\n",
       "    </tr>\n",
       "    <tr>\n",
       "      <th>pickup_longitude</th>\n",
       "      <td>-0.046834</td>\n",
       "      <td>1.000000</td>\n",
       "      <td>0.672371</td>\n",
       "      <td>0.468595</td>\n",
       "      <td>0.406693</td>\n",
       "      <td>-0.020396</td>\n",
       "      <td>0.000550</td>\n",
       "      <td>-0.032446</td>\n",
       "      <td>-0.003389</td>\n",
       "      <td>-0.006290</td>\n",
       "      <td>-0.030582</td>\n",
       "    </tr>\n",
       "    <tr>\n",
       "      <th>pickup_latitude</th>\n",
       "      <td>-0.071199</td>\n",
       "      <td>0.672371</td>\n",
       "      <td>1.000000</td>\n",
       "      <td>0.378644</td>\n",
       "      <td>0.597646</td>\n",
       "      <td>-0.016260</td>\n",
       "      <td>-0.003977</td>\n",
       "      <td>-0.056809</td>\n",
       "      <td>0.001528</td>\n",
       "      <td>0.014831</td>\n",
       "      <td>-0.050278</td>\n",
       "    </tr>\n",
       "    <tr>\n",
       "      <th>dropoff_longitude</th>\n",
       "      <td>-0.004209</td>\n",
       "      <td>0.468595</td>\n",
       "      <td>0.378644</td>\n",
       "      <td>1.000000</td>\n",
       "      <td>0.621389</td>\n",
       "      <td>-0.020572</td>\n",
       "      <td>0.005963</td>\n",
       "      <td>-0.030866</td>\n",
       "      <td>-0.004523</td>\n",
       "      <td>-0.019282</td>\n",
       "      <td>0.034060</td>\n",
       "    </tr>\n",
       "    <tr>\n",
       "      <th>dropoff_latitude</th>\n",
       "      <td>-0.084333</td>\n",
       "      <td>0.406693</td>\n",
       "      <td>0.597646</td>\n",
       "      <td>0.621389</td>\n",
       "      <td>1.000000</td>\n",
       "      <td>-0.014256</td>\n",
       "      <td>-0.001901</td>\n",
       "      <td>-0.050420</td>\n",
       "      <td>-0.000327</td>\n",
       "      <td>0.006539</td>\n",
       "      <td>-0.039207</td>\n",
       "    </tr>\n",
       "    <tr>\n",
       "      <th>passenger_count</th>\n",
       "      <td>0.023038</td>\n",
       "      <td>-0.020396</td>\n",
       "      <td>-0.016260</td>\n",
       "      <td>-0.020572</td>\n",
       "      <td>-0.014256</td>\n",
       "      <td>1.000000</td>\n",
       "      <td>-0.014826</td>\n",
       "      <td>0.059133</td>\n",
       "      <td>0.008727</td>\n",
       "      <td>0.038809</td>\n",
       "      <td>0.010734</td>\n",
       "    </tr>\n",
       "    <tr>\n",
       "      <th>year</th>\n",
       "      <td>0.161716</td>\n",
       "      <td>0.000550</td>\n",
       "      <td>-0.003977</td>\n",
       "      <td>0.005963</td>\n",
       "      <td>-0.001901</td>\n",
       "      <td>-0.014826</td>\n",
       "      <td>1.000000</td>\n",
       "      <td>0.006063</td>\n",
       "      <td>-0.111685</td>\n",
       "      <td>0.002263</td>\n",
       "      <td>-0.002844</td>\n",
       "    </tr>\n",
       "    <tr>\n",
       "      <th>weekday</th>\n",
       "      <td>0.011581</td>\n",
       "      <td>-0.032446</td>\n",
       "      <td>-0.056809</td>\n",
       "      <td>-0.030866</td>\n",
       "      <td>-0.050420</td>\n",
       "      <td>0.059133</td>\n",
       "      <td>0.006063</td>\n",
       "      <td>1.000000</td>\n",
       "      <td>-0.009851</td>\n",
       "      <td>-0.062549</td>\n",
       "      <td>0.036143</td>\n",
       "    </tr>\n",
       "    <tr>\n",
       "      <th>Monthly_Quarter</th>\n",
       "      <td>0.029703</td>\n",
       "      <td>-0.003389</td>\n",
       "      <td>0.001528</td>\n",
       "      <td>-0.004523</td>\n",
       "      <td>-0.000327</td>\n",
       "      <td>0.008727</td>\n",
       "      <td>-0.111685</td>\n",
       "      <td>-0.009851</td>\n",
       "      <td>1.000000</td>\n",
       "      <td>-0.002566</td>\n",
       "      <td>0.009963</td>\n",
       "    </tr>\n",
       "    <tr>\n",
       "      <th>Hourly_Segments</th>\n",
       "      <td>0.013326</td>\n",
       "      <td>-0.006290</td>\n",
       "      <td>0.014831</td>\n",
       "      <td>-0.019282</td>\n",
       "      <td>0.006539</td>\n",
       "      <td>0.038809</td>\n",
       "      <td>0.002263</td>\n",
       "      <td>-0.062549</td>\n",
       "      <td>-0.002566</td>\n",
       "      <td>1.000000</td>\n",
       "      <td>0.010823</td>\n",
       "    </tr>\n",
       "    <tr>\n",
       "      <th>Distance</th>\n",
       "      <td>0.821086</td>\n",
       "      <td>-0.030582</td>\n",
       "      <td>-0.050278</td>\n",
       "      <td>0.034060</td>\n",
       "      <td>-0.039207</td>\n",
       "      <td>0.010734</td>\n",
       "      <td>-0.002844</td>\n",
       "      <td>0.036143</td>\n",
       "      <td>0.009963</td>\n",
       "      <td>0.010823</td>\n",
       "      <td>1.000000</td>\n",
       "    </tr>\n",
       "  </tbody>\n",
       "</table>\n",
       "</div>"
      ],
      "text/plain": [
       "                   fare_amount  pickup_longitude  pickup_latitude  \\\n",
       "fare_amount           1.000000         -0.046834        -0.071199   \n",
       "pickup_longitude     -0.046834          1.000000         0.672371   \n",
       "pickup_latitude      -0.071199          0.672371         1.000000   \n",
       "dropoff_longitude    -0.004209          0.468595         0.378644   \n",
       "dropoff_latitude     -0.084333          0.406693         0.597646   \n",
       "passenger_count       0.023038         -0.020396        -0.016260   \n",
       "year                  0.161716          0.000550        -0.003977   \n",
       "weekday               0.011581         -0.032446        -0.056809   \n",
       "Monthly_Quarter       0.029703         -0.003389         0.001528   \n",
       "Hourly_Segments       0.013326         -0.006290         0.014831   \n",
       "Distance              0.821086         -0.030582        -0.050278   \n",
       "\n",
       "                   dropoff_longitude  dropoff_latitude  passenger_count  \\\n",
       "fare_amount                -0.004209         -0.084333         0.023038   \n",
       "pickup_longitude            0.468595          0.406693        -0.020396   \n",
       "pickup_latitude             0.378644          0.597646        -0.016260   \n",
       "dropoff_longitude           1.000000          0.621389        -0.020572   \n",
       "dropoff_latitude            0.621389          1.000000        -0.014256   \n",
       "passenger_count            -0.020572         -0.014256         1.000000   \n",
       "year                        0.005963         -0.001901        -0.014826   \n",
       "weekday                    -0.030866         -0.050420         0.059133   \n",
       "Monthly_Quarter            -0.004523         -0.000327         0.008727   \n",
       "Hourly_Segments            -0.019282          0.006539         0.038809   \n",
       "Distance                    0.034060         -0.039207         0.010734   \n",
       "\n",
       "                       year   weekday  Monthly_Quarter  Hourly_Segments  \\\n",
       "fare_amount        0.161716  0.011581         0.029703         0.013326   \n",
       "pickup_longitude   0.000550 -0.032446        -0.003389        -0.006290   \n",
       "pickup_latitude   -0.003977 -0.056809         0.001528         0.014831   \n",
       "dropoff_longitude  0.005963 -0.030866        -0.004523        -0.019282   \n",
       "dropoff_latitude  -0.001901 -0.050420        -0.000327         0.006539   \n",
       "passenger_count   -0.014826  0.059133         0.008727         0.038809   \n",
       "year               1.000000  0.006063        -0.111685         0.002263   \n",
       "weekday            0.006063  1.000000        -0.009851        -0.062549   \n",
       "Monthly_Quarter   -0.111685 -0.009851         1.000000        -0.002566   \n",
       "Hourly_Segments    0.002263 -0.062549        -0.002566         1.000000   \n",
       "Distance          -0.002844  0.036143         0.009963         0.010823   \n",
       "\n",
       "                   Distance  \n",
       "fare_amount        0.821086  \n",
       "pickup_longitude  -0.030582  \n",
       "pickup_latitude   -0.050278  \n",
       "dropoff_longitude  0.034060  \n",
       "dropoff_latitude  -0.039207  \n",
       "passenger_count    0.010734  \n",
       "year              -0.002844  \n",
       "weekday            0.036143  \n",
       "Monthly_Quarter    0.009963  \n",
       "Hourly_Segments    0.010823  \n",
       "Distance           1.000000  "
      ]
     },
     "execution_count": 41,
     "metadata": {},
     "output_type": "execute_result"
    }
   ],
   "source": [
    "spearman_matrix = df.corr(method='spearman')\n",
    "spearman_matrix"
   ]
  },
  {
   "cell_type": "code",
   "execution_count": 42,
   "id": "94e1b5b0",
   "metadata": {
    "execution": {
     "iopub.execute_input": "2023-08-07T11:07:34.624138Z",
     "iopub.status.busy": "2023-08-07T11:07:34.622806Z",
     "iopub.status.idle": "2023-08-07T11:07:34.633966Z",
     "shell.execute_reply": "2023-08-07T11:07:34.632792Z"
    },
    "papermill": {
     "duration": 0.310655,
     "end_time": "2023-08-07T11:07:34.636579",
     "exception": false,
     "start_time": "2023-08-07T11:07:34.325924",
     "status": "completed"
    },
    "tags": []
   },
   "outputs": [
    {
     "data": {
      "text/plain": [
       "Hourly_Segments    0.107025\n",
       "Monthly_Quarter    0.107478\n",
       "passenger_count    0.111523\n",
       "year               0.119253\n",
       "weekday            0.123260\n",
       "Distance           0.185975\n",
       "dtype: float64"
      ]
     },
     "execution_count": 42,
     "metadata": {},
     "output_type": "execute_result"
    }
   ],
   "source": [
    "abs_corr_values = spearman_matrix.abs()\n",
    "top_features = abs_corr_values.mean().sort_values().head(6)\n",
    "top_features"
   ]
  },
  {
   "cell_type": "markdown",
   "id": "d8e3b29b",
   "metadata": {
    "papermill": {
     "duration": 0.291978,
     "end_time": "2023-08-07T11:07:35.219695",
     "exception": false,
     "start_time": "2023-08-07T11:07:34.927717",
     "status": "completed"
    },
    "tags": []
   },
   "source": [
    "### 1. Data Splitting (train_test_split), Data Scaling and Model Training"
   ]
  },
  {
   "cell_type": "code",
   "execution_count": 44,
   "id": "a10395ef",
   "metadata": {
    "execution": {
     "iopub.execute_input": "2023-08-07T11:07:36.784117Z",
     "iopub.status.busy": "2023-08-07T11:07:36.783730Z",
     "iopub.status.idle": "2023-08-07T11:07:36.807842Z",
     "shell.execute_reply": "2023-08-07T11:07:36.806727Z"
    },
    "papermill": {
     "duration": 0.321655,
     "end_time": "2023-08-07T11:07:36.810457",
     "exception": false,
     "start_time": "2023-08-07T11:07:36.488802",
     "status": "completed"
    },
    "tags": []
   },
   "outputs": [],
   "source": [
    "train, test = df[df.year < 2015], df[df.year == 2015]\n",
    "\n",
    "X_train = train[features]\n",
    "y_train = train[target]\n",
    "\n",
    "X_test = test[features]\n",
    "y_test = test[target]"
   ]
  },
  {
   "cell_type": "code",
   "execution_count": 45,
   "id": "8ba0685d",
   "metadata": {
    "execution": {
     "iopub.execute_input": "2023-08-07T11:07:37.420563Z",
     "iopub.status.busy": "2023-08-07T11:07:37.419610Z",
     "iopub.status.idle": "2023-08-07T11:07:37.452460Z",
     "shell.execute_reply": "2023-08-07T11:07:37.451196Z"
    },
    "papermill": {
     "duration": 0.327028,
     "end_time": "2023-08-07T11:07:37.455023",
     "exception": false,
     "start_time": "2023-08-07T11:07:37.127995",
     "status": "completed"
    },
    "tags": []
   },
   "outputs": [
    {
     "data": {
      "text/plain": [
       "(157063, 6)"
      ]
     },
     "execution_count": 45,
     "metadata": {},
     "output_type": "execute_result"
    }
   ],
   "source": [
    "scalar = StandardScaler()\n",
    "\n",
    "X_train = scalar.fit_transform(X_train)\n",
    "X_test = scalar.transform(X_test)\n",
    "\n",
    "X_train.shape"
   ]
  },
  {
   "cell_type": "code",
   "execution_count": 46,
   "id": "21686a0b",
   "metadata": {
    "execution": {
     "iopub.execute_input": "2023-08-07T11:07:38.044849Z",
     "iopub.status.busy": "2023-08-07T11:07:38.044004Z",
     "iopub.status.idle": "2023-08-07T11:07:38.051724Z",
     "shell.execute_reply": "2023-08-07T11:07:38.050596Z"
    },
    "papermill": {
     "duration": 0.306342,
     "end_time": "2023-08-07T11:07:38.054298",
     "exception": false,
     "start_time": "2023-08-07T11:07:37.747956",
     "status": "completed"
    },
    "tags": []
   },
   "outputs": [
    {
     "data": {
      "text/plain": [
       "(157063,)"
      ]
     },
     "execution_count": 46,
     "metadata": {},
     "output_type": "execute_result"
    }
   ],
   "source": [
    "y_train.shape"
   ]
  },
  {
   "cell_type": "code",
   "execution_count": 47,
   "id": "1b153d6c",
   "metadata": {
    "execution": {
     "iopub.execute_input": "2023-08-07T11:07:38.650397Z",
     "iopub.status.busy": "2023-08-07T11:07:38.649563Z",
     "iopub.status.idle": "2023-08-07T11:07:38.656331Z",
     "shell.execute_reply": "2023-08-07T11:07:38.655403Z"
    },
    "papermill": {
     "duration": 0.309842,
     "end_time": "2023-08-07T11:07:38.660055",
     "exception": false,
     "start_time": "2023-08-07T11:07:38.350213",
     "status": "completed"
    },
    "tags": []
   },
   "outputs": [],
   "source": [
    "split_models = {\n",
    "    'Random_Forest_1': RandomForestRegressor(),\n",
    "    'Decision_tree_1': DecisionTreeRegressor(),\n",
    "    'XGBoost_1': XGBRegressor(),\n",
    "}"
   ]
  },
  {
   "cell_type": "code",
   "execution_count": 48,
   "id": "6a1fc8c8",
   "metadata": {
    "execution": {
     "iopub.execute_input": "2023-08-07T11:07:39.266752Z",
     "iopub.status.busy": "2023-08-07T11:07:39.265648Z",
     "iopub.status.idle": "2023-08-07T11:07:39.271424Z",
     "shell.execute_reply": "2023-08-07T11:07:39.270560Z"
    },
    "papermill": {
     "duration": 0.31268,
     "end_time": "2023-08-07T11:07:39.275017",
     "exception": false,
     "start_time": "2023-08-07T11:07:38.962337",
     "status": "completed"
    },
    "tags": []
   },
   "outputs": [],
   "source": [
    "def eval_model(y_true, y_pred):\n",
    "    \n",
    "    mae = mean_absolute_error(y_true, y_pred)\n",
    "    mse = mean_squared_error(y_true, y_pred)\n",
    "    r2 = r2_score(y_true, y_pred)\n",
    "    \n",
    "    return mae, mse, r2"
   ]
  },
  {
   "cell_type": "code",
   "execution_count": 49,
   "id": "8d5c367b",
   "metadata": {
    "execution": {
     "iopub.execute_input": "2023-08-07T11:07:39.868697Z",
     "iopub.status.busy": "2023-08-07T11:07:39.867568Z",
     "iopub.status.idle": "2023-08-07T11:08:57.472263Z",
     "shell.execute_reply": "2023-08-07T11:08:57.471133Z"
    },
    "papermill": {
     "duration": 77.904198,
     "end_time": "2023-08-07T11:08:57.475378",
     "exception": false,
     "start_time": "2023-08-07T11:07:39.571180",
     "status": "completed"
    },
    "tags": []
   },
   "outputs": [
    {
     "name": "stderr",
     "output_type": "stream",
     "text": [
      "Training Models: 100%|██████████| 7/7 [01:17<00:00, 11.08s/it]\n"
     ]
    }
   ],
   "source": [
    "train_test_results = {}\n",
    "\n",
    "for model_name, model in tqdm(split_models.items(), desc='Training Models'):\n",
    "    model.fit(X_train, y_train.ravel())\n",
    "\n",
    "    y_train_pred = model.predict(X_train)\n",
    "    y_test_pred = model.predict(X_test)\n",
    "\n",
    "    trained_data_mae, trained_data_mse, trained_data_r2 = eval_model(y_train, y_train_pred)\n",
    "    test_data_mae, test_data_mse, test_data_r2 = eval_model(y_test, y_test_pred)\n",
    "\n",
    "    train_test_results[model_name] = {\n",
    "        'Train': {\n",
    "            'Train_MAE': trained_data_mae,\n",
    "            'Train_R2': trained_data_r2,\n",
    "            'Train_mse': trained_data_mse\n",
    "        },\n",
    "        'Test': {\n",
    "            'Test_MAE': test_data_mae,\n",
    "            'Test_R2': test_data_r2,\n",
    "            'Test_mse': test_data_mse\n",
    "        }\n",
    "    }"
   ]
  },
  {
   "cell_type": "code",
   "execution_count": 50,
   "id": "aaf15f77",
   "metadata": {
    "execution": {
     "iopub.execute_input": "2023-08-07T11:08:58.076521Z",
     "iopub.status.busy": "2023-08-07T11:08:58.075892Z",
     "iopub.status.idle": "2023-08-07T11:08:58.087781Z",
     "shell.execute_reply": "2023-08-07T11:08:58.086571Z"
    },
    "papermill": {
     "duration": 0.310357,
     "end_time": "2023-08-07T11:08:58.090054",
     "exception": false,
     "start_time": "2023-08-07T11:08:57.779697",
     "status": "completed"
    },
    "tags": []
   },
   "outputs": [
    {
     "name": "stdout",
     "output_type": "stream",
     "text": [
      "================================================================================\n",
      "Model                     Train_MSE Test_MSE Train_R2 Test_R2 \n",
      "================================================================================\n",
      "Random_Forest_1           0.652     5.298     0.952     0.686    \n",
      "Decision_tree_1           0.037     9.575     0.997     0.432    \n",
      "Linear_Regression_1       4.432     5.514     0.671     0.673    \n",
      "XGBoost_1                 3.589     4.647     0.733     0.724    \n",
      "Lasso_1                   5.856     8.601     0.565     0.490    \n",
      "Gradient_Boost_1          3.908     4.712     0.710     0.721    \n",
      "High_Gradient_Boost_1     3.800     4.594     0.718     0.728    \n",
      "================================================================================\n"
     ]
    }
   ],
   "source": [
    "print('='*80)\n",
    "print('{:<25s} {:<8s} {:<8s} {:<8s} {:<8s}'.format('Model', 'Train_MSE', 'Test_MSE', 'Train_R2', 'Test_R2'))\n",
    "print('='*80)\n",
    "for model_name, model_results in train_test_results.items():\n",
    "    print('{:<25s} {:<9.3f} {:<9.3f} {:<9.3f} {:<9.3f}'.format(\n",
    "        model_name,\n",
    "        model_results['Train']['Train_mse'],\n",
    "        model_results['Test']['Test_mse'],\n",
    "        model_results['Train']['Train_R2'],\n",
    "        model_results['Test']['Test_R2'],\n",
    "    ))\n",
    "print('='*80)"
   ]
  }
 ],
 "metadata": {
  "kernelspec": {
   "display_name": "Python 3 (ipykernel)",
   "language": "python",
   "name": "python3"
  },
  "language_info": {
   "codemirror_mode": {
    "name": "ipython",
    "version": 3
   },
   "file_extension": ".py",
   "mimetype": "text/x-python",
   "name": "python",
   "nbconvert_exporter": "python",
   "pygments_lexer": "ipython3",
   "version": "3.12.1"
  },
  "papermill": {
   "default_parameters": {},
   "duration": 7692.910572,
   "end_time": "2023-08-07T13:14:19.929183",
   "environment_variables": {},
   "exception": null,
   "input_path": "__notebook__.ipynb",
   "output_path": "__notebook__.ipynb",
   "parameters": {},
   "start_time": "2023-08-07T11:06:07.018611",
   "version": "2.4.0"
  }
 },
 "nbformat": 4,
 "nbformat_minor": 5
}
